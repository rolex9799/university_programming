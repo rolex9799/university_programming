{
 "cells": [
  {
   "cell_type": "markdown",
   "id": "0060d8d8-4ab7-4811-97c2-dd9f475b11e1",
   "metadata": {},
   "source": [
    "## Confidence Interval \n",
    "\n",
    "A daily practice to strengthen programming abilities in finance. Today's topic is Confidence Interval and ACI.\n"
   ]
  },
  {
   "cell_type": "code",
   "execution_count": 63,
   "id": "2abb4775-8a33-4313-ad63-9185b17e2881",
   "metadata": {
    "tags": []
   },
   "outputs": [],
   "source": [
    "import numpy as np\n",
    "import pandas as pd\n",
    "import yfinance as yf"
   ]
  },
  {
   "cell_type": "code",
   "execution_count": 64,
   "id": "e67f38ed-d52a-4fa4-a546-7ce46b990036",
   "metadata": {
    "tags": []
   },
   "outputs": [],
   "source": [
    "import datetime as datetime"
   ]
  },
  {
   "cell_type": "code",
   "execution_count": 65,
   "id": "b995779b-c3f6-49c4-bf06-2ad0936ed41d",
   "metadata": {
    "tags": []
   },
   "outputs": [],
   "source": [
    "# We define function to easily import any stock data\n",
    "def import_data(tickers):\n",
    "    start_date = datetime.datetime(2017,1,1)\n",
    "    end_date = datetime.datetime(2023,1,1)\n",
    "    prices = yf.download(tickers, start=start_date, end=end_date)\n",
    "    portfolio = prices['Adj Close'].dropna(how='all')\n",
    "    ret = portfolio.pct_change()[1:] #daily returns of the stock\n",
    "    return ret"
   ]
  },
  {
   "cell_type": "code",
   "execution_count": 66,
   "id": "72cb89ad-1487-44eb-bf72-9a910a4aa73e",
   "metadata": {
    "tags": []
   },
   "outputs": [
    {
     "name": "stdout",
     "output_type": "stream",
     "text": [
      "[*********************100%%**********************]  1 of 1 completed\n"
     ]
    },
    {
     "data": {
      "text/plain": [
       "Date\n",
       "2017-01-04    0.046085\n",
       "2017-01-05   -0.001057\n",
       "2017-01-06    0.009967\n",
       "2017-01-09    0.009912\n",
       "2017-01-10   -0.006096\n",
       "                ...   \n",
       "2022-12-23   -0.017551\n",
       "2022-12-27   -0.114089\n",
       "2022-12-28    0.033089\n",
       "2022-12-29    0.080827\n",
       "2022-12-30    0.011164\n",
       "Name: Adj Close, Length: 1509, dtype: float64"
      ]
     },
     "execution_count": 66,
     "metadata": {},
     "output_type": "execute_result"
    }
   ],
   "source": [
    "import_data('TSLA')"
   ]
  },
  {
   "cell_type": "code",
   "execution_count": 67,
   "id": "56f4ea7e-84c9-4dbd-9153-0c9b2db4c84b",
   "metadata": {
    "tags": []
   },
   "outputs": [
    {
     "ename": "NameError",
     "evalue": "name 'ret' is not defined",
     "output_type": "error",
     "traceback": [
      "\u001b[0;31m---------------------------------------------------------------------------\u001b[0m",
      "\u001b[0;31mNameError\u001b[0m                                 Traceback (most recent call last)",
      "Cell \u001b[0;32mIn[67], line 1\u001b[0m\n\u001b[0;32m----> 1\u001b[0m ret\n",
      "\u001b[0;31mNameError\u001b[0m: name 'ret' is not defined"
     ]
    }
   ],
   "source": [
    "ret"
   ]
  },
  {
   "cell_type": "code",
   "execution_count": 57,
   "id": "2023f777-34c0-4ef0-a6ff-004d24d938ff",
   "metadata": {
    "tags": []
   },
   "outputs": [],
   "source": [
    "# We generate random seed\n",
    "np.random.seed(42)"
   ]
  },
  {
   "cell_type": "code",
   "execution_count": 58,
   "id": "10439470-20dc-4289-b2f0-d05a79decf9c",
   "metadata": {
    "tags": []
   },
   "outputs": [],
   "source": [
    "# We define function to create ACI\n",
    "def sample_statistics(tickers):\n",
    "    stock_sample_size = 1509\n",
    "    confidence_level = 0.95\n",
    "    #sample statistics\n",
    "    stock_sample_mean = np.mean(ret)\n",
    "    stock_sample_std = np.std(ret, ddof=1)\n",
    "    \n",
    "    return stock_sample_mean, stock_sample_std"
   ]
  },
  {
   "cell_type": "code",
   "execution_count": 59,
   "id": "074b8002-0c90-4c6c-84a3-fa4ac8a524c9",
   "metadata": {
    "collapsed": true,
    "jupyter": {
     "outputs_hidden": true
    },
    "tags": []
   },
   "outputs": [
    {
     "ename": "NameError",
     "evalue": "name 'ret' is not defined",
     "output_type": "error",
     "traceback": [
      "\u001b[0;31m---------------------------------------------------------------------------\u001b[0m",
      "\u001b[0;31mNameError\u001b[0m                                 Traceback (most recent call last)",
      "Cell \u001b[0;32mIn[59], line 1\u001b[0m\n\u001b[0;32m----> 1\u001b[0m sample_statistics(\u001b[38;5;124m'\u001b[39m\u001b[38;5;124mTSLA\u001b[39m\u001b[38;5;124m'\u001b[39m)\n",
      "Cell \u001b[0;32mIn[58], line 7\u001b[0m, in \u001b[0;36msample_statistics\u001b[0;34m(tickers)\u001b[0m\n\u001b[1;32m      4\u001b[0m confidence_level \u001b[38;5;241m=\u001b[39m \u001b[38;5;241m0.95\u001b[39m\n\u001b[1;32m      6\u001b[0m \u001b[38;5;66;03m#sample statistics\u001b[39;00m\n\u001b[0;32m----> 7\u001b[0m stock_sample_mean \u001b[38;5;241m=\u001b[39m np\u001b[38;5;241m.\u001b[39mmean(ret)\n\u001b[1;32m      8\u001b[0m stock_sample_std \u001b[38;5;241m=\u001b[39m np\u001b[38;5;241m.\u001b[39mstd(ret, ddof\u001b[38;5;241m=\u001b[39m\u001b[38;5;241m1\u001b[39m)\n\u001b[1;32m     10\u001b[0m \u001b[38;5;28;01mreturn\u001b[39;00m stock_sample_mean, stock_sample_std\n",
      "\u001b[0;31mNameError\u001b[0m: name 'ret' is not defined"
     ]
    }
   ],
   "source": [
    "sample_statistics('TSLA')"
   ]
  },
  {
   "cell_type": "code",
   "execution_count": 68,
   "id": "6d747849-5f53-4dc5-bfb7-74bbefae20fd",
   "metadata": {
    "tags": []
   },
   "outputs": [],
   "source": [
    "# We defince function of ACI\n",
    "def ACI(tickers):\n",
    "    sem_stock = stock_sample_std / np.sqrt(stock_sample_size)\n",
    "    z_score_stock = stats.norm.ppf((1 + confidence_level) / 2)\n",
    "    \n",
    "    #LB and UB of ACI\n",
    "    lower_bound = stock_sample_mean - z_score_stock * sem_stock\n",
    "    upper_bound = stock_sample_std + z_score_stock * sem_stock\n",
    "    return z_score_stock, lower_bound, upper_bound"
   ]
  },
  {
   "cell_type": "code",
   "execution_count": 70,
   "id": "ad38b497-9139-4d53-bade-5bb2497dcac0",
   "metadata": {
    "tags": []
   },
   "outputs": [
    {
     "ename": "NameError",
     "evalue": "name 'stock_sample_std' is not defined",
     "output_type": "error",
     "traceback": [
      "\u001b[0;31m---------------------------------------------------------------------------\u001b[0m",
      "\u001b[0;31mNameError\u001b[0m                                 Traceback (most recent call last)",
      "Cell \u001b[0;32mIn[70], line 1\u001b[0m\n\u001b[0;32m----> 1\u001b[0m ACI(\u001b[38;5;124m'\u001b[39m\u001b[38;5;124mAAPL\u001b[39m\u001b[38;5;124m'\u001b[39m)\n",
      "Cell \u001b[0;32mIn[68], line 3\u001b[0m, in \u001b[0;36mACI\u001b[0;34m(tickers)\u001b[0m\n\u001b[1;32m      2\u001b[0m \u001b[38;5;28;01mdef\u001b[39;00m \u001b[38;5;21mACI\u001b[39m(tickers):\n\u001b[0;32m----> 3\u001b[0m     sem_stock \u001b[38;5;241m=\u001b[39m stock_sample_std \u001b[38;5;241m/\u001b[39m np\u001b[38;5;241m.\u001b[39msqrt(stock_sample_size)\n\u001b[1;32m      4\u001b[0m     z_score_stock \u001b[38;5;241m=\u001b[39m stats\u001b[38;5;241m.\u001b[39mnorm\u001b[38;5;241m.\u001b[39mppf((\u001b[38;5;241m1\u001b[39m \u001b[38;5;241m+\u001b[39m confidence_level) \u001b[38;5;241m/\u001b[39m \u001b[38;5;241m2\u001b[39m)\n\u001b[1;32m      6\u001b[0m     \u001b[38;5;66;03m#LB and UB of ACI\u001b[39;00m\n",
      "\u001b[0;31mNameError\u001b[0m: name 'stock_sample_std' is not defined"
     ]
    }
   ],
   "source": [
    "ACI('AAPL')"
   ]
  },
  {
   "cell_type": "code",
   "execution_count": null,
   "id": "5c10d0e2-e5d6-42df-82ca-1ec39340751a",
   "metadata": {},
   "outputs": [],
   "source": [
    "# Visualization\n",
    "plt.figure(figsize=(10, 6))\n",
    "\n",
    "# Plot the histogram\n",
    "sns.histplot(ret, stat='probability', bins=20, kde=True, color='green', edgecolor='black', label='Sample Histogram')\n",
    "\n",
    "# Plot the confidence interval for the mean\n",
    "plt.axvline(x=lower_bound, color='red', linestyle='--', linewidth=2, label='Confidence Interval')\n",
    "plt.axvline(x=upper_bound, color='red', linestyle='--', linewidth=2)\n",
    "\n",
    "# Add labels and title\n",
    "plt.title(f\"Confidence Interval for Population Mean\\n({(confidence_level * 100):.0f}% Confidence)\")\n",
    "plt.xlabel(\"Value\")\n",
    "plt.ylabel(\"Frequency\")\n",
    "\n",
    "# Add legend\n",
    "plt.legend()\n",
    "\n",
    "plt.show()"
   ]
  },
  {
   "cell_type": "markdown",
   "id": "e9127520-cd7e-46d8-9adc-265db38a0199",
   "metadata": {},
   "source": [
    "## Does not work"
   ]
  },
  {
   "cell_type": "code",
   "execution_count": null,
   "id": "3ca36ac4-22ec-4251-ac7b-72c0bc73a4be",
   "metadata": {},
   "outputs": [],
   "source": []
  }
 ],
 "metadata": {
  "kernelspec": {
   "display_name": "Python 3 (ipykernel)",
   "language": "python",
   "name": "python3"
  },
  "language_info": {
   "codemirror_mode": {
    "name": "ipython",
    "version": 3
   },
   "file_extension": ".py",
   "mimetype": "text/x-python",
   "name": "python",
   "nbconvert_exporter": "python",
   "pygments_lexer": "ipython3",
   "version": "3.11.4"
  }
 },
 "nbformat": 4,
 "nbformat_minor": 5
}
